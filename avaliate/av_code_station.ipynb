{
 "cells": [
  {
   "cell_type": "code",
   "execution_count": 1,
   "metadata": {},
   "outputs": [],
   "source": [
    "import os\n",
    "import pandas as pd\n",
    "import numpy as np\n",
    "import h5py\n",
    "\n",
    "from tqdm import tqdm"
   ]
  },
  {
   "cell_type": "code",
   "execution_count": 2,
   "metadata": {},
   "outputs": [],
   "source": [
    "df = pd.read_pickle(os.path.join('./data', f'df_train_tec+scin.pkl'))"
   ]
  },
  {
   "cell_type": "code",
   "execution_count": 3,
   "metadata": {},
   "outputs": [
    {
     "data": {
      "text/html": [
       "<div>\n",
       "<style scoped>\n",
       "    .dataframe tbody tr th:only-of-type {\n",
       "        vertical-align: middle;\n",
       "    }\n",
       "\n",
       "    .dataframe tbody tr th {\n",
       "        vertical-align: top;\n",
       "    }\n",
       "\n",
       "    .dataframe thead th {\n",
       "        text-align: right;\n",
       "    }\n",
       "</style>\n",
       "<table border=\"1\" class=\"dataframe\">\n",
       "  <thead>\n",
       "    <tr style=\"text-align: right;\">\n",
       "      <th></th>\n",
       "      <th>path</th>\n",
       "    </tr>\n",
       "    <tr>\n",
       "      <th>index_datetime</th>\n",
       "      <th></th>\n",
       "    </tr>\n",
       "  </thead>\n",
       "  <tbody>\n",
       "    <tr>\n",
       "      <th>2010-01-01 00:00:00+00:00</th>\n",
       "      <td>map_2010_01_01_00_00</td>\n",
       "    </tr>\n",
       "    <tr>\n",
       "      <th>2010-01-01 00:10:00+00:00</th>\n",
       "      <td>map_2010_01_01_00_10</td>\n",
       "    </tr>\n",
       "    <tr>\n",
       "      <th>2010-01-01 00:20:00+00:00</th>\n",
       "      <td>map_2010_01_01_00_20</td>\n",
       "    </tr>\n",
       "    <tr>\n",
       "      <th>2010-01-01 00:30:00+00:00</th>\n",
       "      <td>map_2010_01_01_00_30</td>\n",
       "    </tr>\n",
       "    <tr>\n",
       "      <th>2010-01-01 00:40:00+00:00</th>\n",
       "      <td>map_2010_01_01_00_40</td>\n",
       "    </tr>\n",
       "  </tbody>\n",
       "</table>\n",
       "</div>"
      ],
      "text/plain": [
       "                                           path\n",
       "index_datetime                                 \n",
       "2010-01-01 00:00:00+00:00  map_2010_01_01_00_00\n",
       "2010-01-01 00:10:00+00:00  map_2010_01_01_00_10\n",
       "2010-01-01 00:20:00+00:00  map_2010_01_01_00_20\n",
       "2010-01-01 00:30:00+00:00  map_2010_01_01_00_30\n",
       "2010-01-01 00:40:00+00:00  map_2010_01_01_00_40"
      ]
     },
     "execution_count": 3,
     "metadata": {},
     "output_type": "execute_result"
    }
   ],
   "source": [
    "df.head()"
   ]
  },
  {
   "cell_type": "code",
   "execution_count": 4,
   "metadata": {},
   "outputs": [],
   "source": [
    "df = pd.read_pickle(f'./data/samples_train_7200_10_tec+scin.pkl')"
   ]
  },
  {
   "cell_type": "code",
   "execution_count": 5,
   "metadata": {},
   "outputs": [
    {
     "data": {
      "text/plain": [
       "list"
      ]
     },
     "execution_count": 5,
     "metadata": {},
     "output_type": "execute_result"
    }
   ],
   "source": [
    "type(df)"
   ]
  },
  {
   "cell_type": "code",
   "execution_count": 6,
   "metadata": {},
   "outputs": [
    {
     "data": {
      "text/plain": [
       "(datetime.datetime(2010, 1, 1, 0, 0), datetime.datetime(2010, 1, 5, 23, 50))"
      ]
     },
     "execution_count": 6,
     "metadata": {},
     "output_type": "execute_result"
    }
   ],
   "source": [
    "df[0]"
   ]
  },
  {
   "cell_type": "code",
   "execution_count": 7,
   "metadata": {},
   "outputs": [],
   "source": [
    "summer = [11, 12, 1, 2]\n",
    "winter = [5, 6, 7, 8]\n",
    "equinox = [3, 4, 9, 10]"
   ]
  },
  {
   "cell_type": "code",
   "execution_count": 8,
   "metadata": {},
   "outputs": [],
   "source": [
    "aux = df[0]\n",
    "a, b = aux"
   ]
  },
  {
   "cell_type": "code",
   "execution_count": 9,
   "metadata": {},
   "outputs": [],
   "source": [
    "samples_summer = []\n",
    "samples_winter = []\n",
    "samples_equinox = []"
   ]
  },
  {
   "cell_type": "code",
   "execution_count": 10,
   "metadata": {},
   "outputs": [],
   "source": [
    "class station():\n",
    "    def __init__(self):\n",
    "        self.summer = [11, 12, 1, 2]\n",
    "        self.winter = [5, 6, 7, 8]\n",
    "        self.equinox = [3, 4, 9, 10]\n",
    "\n",
    "    def is_summer(self, aux):\n",
    "        a, b = aux\n",
    "        if a.month in self.summer:\n",
    "            return True\n",
    "        elif b.month in self.summer:\n",
    "            return True\n",
    "        else:\n",
    "            return False\n",
    "    \n",
    "    def is_winter(self, aux):\n",
    "        a, b = aux\n",
    "        if a.month in self.winter:\n",
    "            return True\n",
    "        elif b.month in self.winter:\n",
    "            return True\n",
    "        else:\n",
    "            return False\n",
    "    \n",
    "    def is_equinox(self, aux):\n",
    "        a, b = aux\n",
    "        if a.month in self.equinox:\n",
    "            return True\n",
    "        elif b.month in self.equinox:\n",
    "            return True\n",
    "        else:\n",
    "            return False"
   ]
  },
  {
   "cell_type": "code",
   "execution_count": null,
   "metadata": {},
   "outputs": [],
   "source": [
    "SUMMER = [11, 12, 1, 2]\n",
    "WINTER = [5, 6, 7, 8]\n",
    "EQUINOX = [3, 4, 9, 10]\n",
    "\n",
    "def is_summer(aux):\n",
    "    a, b = aux\n",
    "    if a.month in SUMMER:\n",
    "        return True\n",
    "    elif b.month in SUMMER:\n",
    "        return True\n",
    "    else:\n",
    "        return False\n",
    "\n",
    "def is_winter(aux):\n",
    "    a, b = aux\n",
    "    if a.month in WINTER:\n",
    "        return True\n",
    "    elif b.month in WINTER:\n",
    "        return True\n",
    "    else:\n",
    "        return False\n",
    "\n",
    "def is_equinox(aux):\n",
    "    a, b = aux\n",
    "    if a.month in EQUINOX:\n",
    "        return True\n",
    "    elif b.month in EQUINOX:\n",
    "        return True\n",
    "    else:\n",
    "        return False"
   ]
  },
  {
   "cell_type": "code",
   "execution_count": 11,
   "metadata": {},
   "outputs": [
    {
     "data": {
      "text/plain": [
       "True"
      ]
     },
     "execution_count": 11,
     "metadata": {},
     "output_type": "execute_result"
    }
   ],
   "source": [
    "is_summer(aux)"
   ]
  },
  {
   "cell_type": "code",
   "execution_count": null,
   "metadata": {},
   "outputs": [],
   "source": []
  }
 ],
 "metadata": {
  "kernelspec": {
   "display_name": "Python (dscience)",
   "language": "python",
   "name": "dscience"
  },
  "language_info": {
   "codemirror_mode": {
    "name": "ipython",
    "version": 3
   },
   "file_extension": ".py",
   "mimetype": "text/x-python",
   "name": "python",
   "nbconvert_exporter": "python",
   "pygments_lexer": "ipython3",
   "version": "3.6.10"
  }
 },
 "nbformat": 4,
 "nbformat_minor": 4
}
