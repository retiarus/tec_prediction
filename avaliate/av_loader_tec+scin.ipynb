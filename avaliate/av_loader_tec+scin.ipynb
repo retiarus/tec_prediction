{
 "cells": [
  {
   "cell_type": "code",
   "execution_count": 1,
   "metadata": {},
   "outputs": [],
   "source": [
    "import os\n",
    "import pandas as pd\n",
    "import numpy as np\n",
    "import h5py\n",
    "\n",
    "from tqdm import tqdm"
   ]
  },
  {
   "cell_type": "code",
   "execution_count": 2,
   "metadata": {},
   "outputs": [],
   "source": [
    "df = pd.read_pickle(os.path.join('./data', f'df_test_scin.pkl'))"
   ]
  },
  {
   "cell_type": "code",
   "execution_count": 3,
   "metadata": {},
   "outputs": [
    {
     "data": {
      "text/html": [
       "<div>\n",
       "<style scoped>\n",
       "    .dataframe tbody tr th:only-of-type {\n",
       "        vertical-align: middle;\n",
       "    }\n",
       "\n",
       "    .dataframe tbody tr th {\n",
       "        vertical-align: top;\n",
       "    }\n",
       "\n",
       "    .dataframe thead th {\n",
       "        text-align: right;\n",
       "    }\n",
       "</style>\n",
       "<table border=\"1\" class=\"dataframe\">\n",
       "  <thead>\n",
       "    <tr style=\"text-align: right;\">\n",
       "      <th></th>\n",
       "      <th>path</th>\n",
       "    </tr>\n",
       "    <tr>\n",
       "      <th>index_datetime</th>\n",
       "      <th></th>\n",
       "    </tr>\n",
       "  </thead>\n",
       "  <tbody>\n",
       "    <tr>\n",
       "      <th>2016-08-22 16:30:00+00:00</th>\n",
       "      <td>/mnt/data/sci_map_interpolatted_type_1/sci_map...</td>\n",
       "    </tr>\n",
       "    <tr>\n",
       "      <th>2016-08-22 16:40:00+00:00</th>\n",
       "      <td>/mnt/data/sci_map_interpolatted_type_1/sci_map...</td>\n",
       "    </tr>\n",
       "    <tr>\n",
       "      <th>2016-08-22 16:50:00+00:00</th>\n",
       "      <td>/mnt/data/sci_map_interpolatted_type_1/sci_map...</td>\n",
       "    </tr>\n",
       "    <tr>\n",
       "      <th>2016-08-22 17:00:00+00:00</th>\n",
       "      <td>/mnt/data/sci_map_interpolatted_type_1/sci_map...</td>\n",
       "    </tr>\n",
       "    <tr>\n",
       "      <th>2016-08-22 17:10:00+00:00</th>\n",
       "      <td>/mnt/data/sci_map_interpolatted_type_1/sci_map...</td>\n",
       "    </tr>\n",
       "  </tbody>\n",
       "</table>\n",
       "</div>"
      ],
      "text/plain": [
       "                                                                        path\n",
       "index_datetime                                                              \n",
       "2016-08-22 16:30:00+00:00  /mnt/data/sci_map_interpolatted_type_1/sci_map...\n",
       "2016-08-22 16:40:00+00:00  /mnt/data/sci_map_interpolatted_type_1/sci_map...\n",
       "2016-08-22 16:50:00+00:00  /mnt/data/sci_map_interpolatted_type_1/sci_map...\n",
       "2016-08-22 17:00:00+00:00  /mnt/data/sci_map_interpolatted_type_1/sci_map...\n",
       "2016-08-22 17:10:00+00:00  /mnt/data/sci_map_interpolatted_type_1/sci_map..."
      ]
     },
     "execution_count": 3,
     "metadata": {},
     "output_type": "execute_result"
    }
   ],
   "source": [
    "df.head()"
   ]
  },
  {
   "cell_type": "code",
   "execution_count": null,
   "metadata": {},
   "outputs": [],
   "source": [
    "from data_loader_torch import SequenceLoader"
   ]
  },
  {
   "cell_type": "code",
   "execution_count": null,
   "metadata": {},
   "outputs": [],
   "source": [
    "seq_length_min = int(5*60*24)\n",
    "step_min = 10\n",
    "window_train = int(3*60*24/step_min)\n",
    "window_predict = int(2*60*24/step_min)\n",
    "batch_size = 50\n",
    "to_fit = True\n",
    "amount = 100"
   ]
  },
  {
   "cell_type": "code",
   "execution_count": null,
   "metadata": {},
   "outputs": [],
   "source": [
    "ds = SequenceLoader(name='train',\n",
    "                           path_files='/mnt/data/resized_type_1',\n",
    "                           seq_length_min=seq_length_min,\n",
    "                           step_min=step_min,\n",
    "                           window_train=window_train,\n",
    "                           window_predict=window_predict,\n",
    "                           data='tec+scin')"
   ]
  },
  {
   "cell_type": "code",
   "execution_count": null,
   "metadata": {},
   "outputs": [],
   "source": [
    "ds.__len__()"
   ]
  },
  {
   "cell_type": "code",
   "execution_count": null,
   "metadata": {},
   "outputs": [],
   "source": [
    "import random\n",
    "import time\n",
    "import numpy as np\n",
    "import torch"
   ]
  },
  {
   "cell_type": "code",
   "execution_count": null,
   "metadata": {},
   "outputs": [],
   "source": [
    "times = []\n",
    "for _ in range(0, amount):\n",
    "    id = random.randint(0, ds.__len__())\n",
    "    start = time.time()\n",
    "    aux = ds.load(id)\n",
    "    end = time.time()\n",
    "    times.append(end-start)\n",
    "    \n",
    "print(f'{np.mean(times)}/{np.std(times)}')"
   ]
  },
  {
   "cell_type": "code",
   "execution_count": null,
   "metadata": {},
   "outputs": [],
   "source": [
    "for i in range(0, 4):\n",
    "\n",
    "    seq_train = torch.utils.data.DataLoader(ds,\n",
    "                                            batch_size=batch_size,\n",
    "                                            shuffle=True,\n",
    "                                            num_workers=i+1)\n",
    "\n",
    "    it_batch = iter(seq_train)\n",
    "\n",
    "    times = []\n",
    "    for _ in range(0, amount):\n",
    "        id = random.randint(0, seq_train.__len__())\n",
    "        start = time.time()\n",
    "        batch = next(it_batch) \n",
    "        end = time.time()\n",
    "        times.append(end-start)\n",
    "        \n",
    "    print(f'{i} => {np.mean(times)}/{np.std(times)}')"
   ]
  },
  {
   "cell_type": "code",
   "execution_count": null,
   "metadata": {},
   "outputs": [],
   "source": [
    "np.max(times)"
   ]
  },
  {
   "cell_type": "code",
   "execution_count": null,
   "metadata": {},
   "outputs": [],
   "source": []
  }
 ],
 "metadata": {
  "kernelspec": {
   "display_name": "Python (dscience)",
   "language": "python",
   "name": "dscience"
  },
  "language_info": {
   "codemirror_mode": {
    "name": "ipython",
    "version": 3
   },
   "file_extension": ".py",
   "mimetype": "text/x-python",
   "name": "python",
   "nbconvert_exporter": "python",
   "pygments_lexer": "ipython3",
   "version": "3.6.10"
  }
 },
 "nbformat": 4,
 "nbformat_minor": 4
}
